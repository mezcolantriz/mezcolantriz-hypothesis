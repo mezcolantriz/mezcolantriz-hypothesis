{
 "cells": [
  {
   "cell_type": "markdown",
   "id": "d9d036c6",
   "metadata": {},
   "source": [
    "# Problemas de prueba de hipótesis"
   ]
  },
  {
   "cell_type": "markdown",
   "id": "d157c4db",
   "metadata": {},
   "source": [
    "## Ejercicio 1\n",
    "\n",
    "Usted es un nutricionista que investiga dos tipos diferentes de dietas para ver si existe una diferencia significativa en la pérdida de peso después de un mes. Eliges dos grupos aleatorios de personas; un grupo sigue la primera dieta y el otro sigue la segunda. Al final del mes, se registra la pérdida de peso (en kg) de cada persona:\n",
    "\n",
    "| Diet 1 | Diet 2 |\n",
    "|:-------|:-------|\n",
    "| 2.0 | 3.0 |\n",
    "| 2.5 | 3.2 |\n",
    "| 3.0 | 3.1 |\n",
    "| 2.8 | 2.9 |\n",
    "| 2.3 | 2.8 |\n",
    "| 2.7 | 3.0 |\n",
    "| 2.5 | 3.2 |\n",
    "\n",
    "Con estos datos se busca responder a la siguiente pregunta: ¿Existe una diferencia significativa en la pérdida de peso promedio entre las personas que siguieron la primera dieta y las que siguieron la segunda dieta?\n",
    "\n",
    "Para sacar conclusiones, siga los siguientes puntos:\n",
    "\n",
    "-Enunciar la hipótesis: hipótesis nula y alternativa.\n",
    "-Realizar la prueba para comprobar la hipótesis. Puede utilizar la prueba t de Student.\n",
    "-Analizar las conclusiones."
   ]
  },
  {
   "cell_type": "markdown",
   "id": "bb669511",
   "metadata": {},
   "source": [
    "### Hipótesis\n",
    "\n",
    "- **Hipótesis nula (H₀):** No hay diferencia significativa entre las medias → \n",
    "> \\( \\mu_1 = \\mu_2 \\)\n",
    "- **Hipótesis alternativa (H₁):** Sí hay diferencia significativa entre las medias → \n",
    "> \\( \\mu_1 \\ne \\mu_2 \\)\n"
   ]
  },
  {
   "cell_type": "code",
   "execution_count": 8,
   "id": "8e0f3cf0",
   "metadata": {},
   "outputs": [],
   "source": [
    "import numpy as np\n",
    "from scipy.stats import ttest_ind # ttest_ind es una función de scipy.stats que realiza la prueba t de Student para muestras independientes."
   ]
  },
  {
   "cell_type": "markdown",
   "id": "e6c54eac",
   "metadata": {},
   "source": [
    "\n",
    "Cada número representa cuántos kilos perdió una persona en ese grupo:"
   ]
  },
  {
   "cell_type": "markdown",
   "id": "8108143a",
   "metadata": {},
   "source": [
    "✅ **¿Qué mide la prueba t de Student para muestras independientes?**\n",
    "\n",
    "La **prueba t de Student** compara si las medias de dos grupos son **estadísticamente diferentes**.\n",
    "\n",
    "Lo que compara **NO es simplemente** `dieta1.mean() - dieta2.mean()`  \n",
    "(eso sería solo la diferencia observada), sino una **razón entre señal y ruido**:\n",
    "\n",
    "$$\n",
    "t = \\frac{\\bar{x}_1 - \\bar{x}_2}{\\text{error estándar combinado}}\n",
    "$$\n",
    "\n",
    "💡 El **numerador** es la **diferencia de medias**  \n",
    "💡 El **denominador** es el “**ruido**” o **variabilidad total** de ambas muestras\n"
   ]
  },
  {
   "cell_type": "code",
   "execution_count": 9,
   "id": "663e0c5b",
   "metadata": {},
   "outputs": [
    {
     "name": "stdout",
     "output_type": "stream",
     "text": [
      "Varianza Dieta 1: 0.10952380952380954\n",
      "Varianza Dieta 2: 0.02238095238095242\n",
      "La dispersión (variabilidad de los datos) es casi 5 veces más grande, haremos el test de Welch en lugar del t student\n"
     ]
    }
   ],
   "source": [
    "import numpy as np\n",
    "from scipy.stats import ttest_ind\n",
    "\n",
    "\n",
    "# Estas son las muestras de pérdida de peso, una para cada dieta.  \n",
    "\n",
    "dieta1 = np.array([2.0, 2.5, 3.0, 2.8, 2.3, 2.7, 2.5])\n",
    "dieta2 = np.array([3.0, 3.2, 3.1, 2.9, 2.8, 3.0, 3.2])\n",
    "\n",
    "# vamos a ver las varianzas para el parámetro de equal_var de la prueba t\n",
    "\n",
    "print(\"Varianza Dieta 1:\", np.var(dieta1, ddof=1)) \n",
    "print(\"Varianza Dieta 2:\", np.var(dieta2, ddof=1))\n",
    "print(\"La dispersión (variabilidad de los datos) es casi 5 veces más grande, haremos el test de Welch en lugar del t student\")\n",
    "\n"
   ]
  },
  {
   "cell_type": "markdown",
   "id": "9ec0470e",
   "metadata": {},
   "source": [
    "| Característica                 | t de Student (clásica)      | t de Welch (modificada)            |\n",
    "| ------------------------------ | --------------------------- | ---------------------------------- |\n",
    "| **Asume varianzas iguales**    | ✅ Sí                        | ❌ No                               |\n",
    "| **Fórmula del error estándar** | Usa varianza combinada      | Usa varianzas individuales         |\n",
    "| **Grados de libertad**         | Simples                     | Ajustados con fórmula más compleja |\n",
    "| **Uso preferido cuando...**    | Las varianzas son similares | Las varianzas son diferentes       |\n"
   ]
  },
  {
   "cell_type": "code",
   "execution_count": 10,
   "id": "981e2da5",
   "metadata": {},
   "outputs": [
    {
     "name": "stdout",
     "output_type": "stream",
     "text": [
      "Valor t: -3.5383407969933938\n",
      "P-valor: 0.007125697852423989\n"
     ]
    }
   ],
   "source": [
    "# Hipótesis:\n",
    "# H₀: μ₁ = μ₂ (no hay diferencia)\n",
    "# H₁: μ₁ ≠ μ₂ (sí hay diferencia)\n",
    "\n",
    "# # Prueba t (usando Welch porque las varianzas no son iguales como ya hemos visto)\n",
    "t_stat, p_value = ttest_ind(dieta1, dieta2, equal_var=False) \n",
    "\n",
    "print(f\"Valor t: {t_stat}\")\n",
    "print(f\"P-valor: {p_value}\")\n"
   ]
  },
  {
   "cell_type": "markdown",
   "id": "690c33ba",
   "metadata": {},
   "source": [
    "✏️ Explicación del código:  \n",
    "\n",
    "- *ttest_ind(...)* compara las dos muestras.\n",
    "\n",
    "- *equal_var=True* asume que las dos poblaciones tienen varianzas iguales. Sería T studient pero  \n",
    "en este caso usamos False para T Welch.\n",
    "  \n",
    "Devuelve:\n",
    "\n",
    "- *Valor t*: -3.538    \n",
    "→ Esto indica que la media de la Dieta 1 es menor que la de Dieta 2 (por eso el valor t es negativo).\n",
    "\n",
    "- *p_value*:  0.0071  \n",
    "→ Este número nos dice como de probable sería observar una diferencia como la encontrada, si la hipótesis nula fuera cierta. Normalmente usamos α=0.05 por lo que:  \n",
    "> p-value 0.0071 < 0.05 α\n",
    "\n",
    "Como el p-valor es menor que 0.05, la probabilidad de que esta diferencia azar es muy baja.  \n",
    "Por tanto:  \n",
    "\n",
    "- Rechazamos la hipótesis nula (H₀)\n",
    "- Aceptamos la hipótesis alternativa (H₁). **Hay una diferencia significativa entre ambas dietas.**"
   ]
  },
  {
   "cell_type": "markdown",
   "id": "f432e18e",
   "metadata": {},
   "source": [
    "## ANOVA\n",
    "\n",
    "**ANOVA** (*Analysis of Variance - Análisis de variación*) Es una técnica estadística utilizada para comparar las medidas de dos o más grupos. La idea detrás de ANOVA es descomponer la variabilidad total de los datos en dos componentes: variabilidad entre grupos y variabilidad dentro de los grupos:\n",
    "\n",
    "- **Variabilidad entre grupos**: Esta variabilidad se refiere a las diferencias entre las medias del grupo. Si esta variabilidad es considerablemente mayor que la variabilidad dentro del grupo, podría ser una indicación de que al menos una de las medias del grupo es diferente.\n",
    "- **Variabilidad dentro del grupo**: Esta variabilidad se refiere a la dispersión de los datos dentro de cada grupo. Si todos los grupos tienen una variabilidad similar, entonces cualquier diferencia notable en las medias de los grupos podría considerarse significativa.\n",
    "\n",
    "Las hipótesis en ANOVA suelen incluir:\n",
    "\n",
    "- **Hipótesis nula** ($H₀$): Las medias de todos los grupos son iguales.\n",
    "- **Hipótesis alternativa** ($H₁$): Al menos una de las medias del grupo es diferente.\n",
    "\n",
    "Si el resultado de la prueba ANOVA es significativo (por ejemplo, un valor p inferior a un umbral como 0,05), esto sugiere que al menos la media de un grupo es diferente."
   ]
  },
  {
   "cell_type": "markdown",
   "id": "fc5f3721",
   "metadata": {},
   "source": [
    "## Ejercicio 2\n",
    "\n",
    "Un agricultor decide probar tres tipos diferentes de fertilizantes para determinar si alguno es superior en términos de producción de maíz. El agricultor planta maíz en 15 parcelas idénticas y utiliza los tres fertilizantes (5 parcelas para cada tipo). Al final de la temporada mide el rendimiento de maíz (en kg) de cada parcela, con el siguiente resultado:\n",
    "\n",
    "| Fertilizante 1 | Fertilizante 2 | Fertilizante 3 |\n",
    "|:-------------|:-------------|:-------------|\n",
    "| 20 | 22 | 24 |\n",
    "| 21 | 21 | 23 |\n",
    "| 20 | 23 | 22 |\n",
    "| 19 | 22 | 23 |\n",
    "| 20 | 21 | 24 |\n",
    "\n",
    "Con estos datos busca responder la siguiente pregunta: ¿Existe una diferencia significativa en el rendimiento promedio del maíz entre los tres tipos de fertilizantes?\n",
    "\n",
    "Para ayudarte, sigue los siguientes puntos:\n",
    "\n",
    "-Enunciar la hipótesis: hipótesis nula y alternativa.\n",
    "-Realizar la prueba ANOVA.\n",
    "-Analizar las conclusiones.\n",
    "-Si un fertilizante es mejor que otro, ¿cómo podemos saberlo?"
   ]
  },
  {
   "cell_type": "code",
   "execution_count": 16,
   "id": "eecad0ca",
   "metadata": {},
   "outputs": [],
   "source": [
    "import numpy as np\n",
    "from scipy.stats import f_oneway # para hacer ANOVA\n",
    "from statsmodels.stats.multicomp import pairwise_tukeyhsd # para hacer Tukey\n",
    "import matplotlib.pyplot as plt # graficar es entender\n"
   ]
  },
  {
   "cell_type": "code",
   "execution_count": 12,
   "id": "361256e7",
   "metadata": {},
   "outputs": [
    {
     "name": "stdout",
     "output_type": "stream",
     "text": [
      "Estadístico F: 20.315789473684188\n",
      "P-valor: 0.00014047824793190475\n"
     ]
    }
   ],
   "source": [
    "fert1 = np.array([20, 21, 20, 19, 20])\n",
    "fert2 = np.array([22, 21, 23, 22, 21])\n",
    "fert3 = np.array([24, 23, 22, 23, 24])\n",
    "\n",
    "# prueba ANOVA\n",
    "f_stat, p_value = f_oneway(fert1, fert2, fert3)\n",
    "\n",
    "print(f\"Estadístico F: {f_stat}\")\n",
    "print(f\"P-valor: {p_value}\")"
   ]
  },
  {
   "cell_type": "markdown",
   "id": "54522168",
   "metadata": {},
   "source": [
    "- P-value < 0.05, volvemos a rechazar la hipótesis nula y aceptamos que al menos uno de los 3 fertilizantes tiene un redimiento promedio distinto. \n",
    "- El estadístico F es altísimo, lo que significa que al menos uno de los grupos tiene una media muy distinta al resto."
   ]
  },
  {
   "cell_type": "markdown",
   "id": "7e863cea",
   "metadata": {},
   "source": [
    "-  **¿Qué es el test Tukey HSD?**\n",
    "El test de Tukey HSD (Honest Significant Difference) es una prueba post hoc que se realiza después de un ANOVA significativo.  \n",
    "Sirve para comparar todas las medias de los grupos por pares y decirnos exactamente cuáles difieren significativamente entre sí, manteniendo el control del error tipo I global (FWER)."
   ]
  },
  {
   "cell_type": "code",
   "execution_count": 14,
   "id": "29bce4e7",
   "metadata": {},
   "outputs": [
    {
     "name": "stdout",
     "output_type": "stream",
     "text": [
      "Multiple Comparison of Means - Tukey HSD, FWER=0.05\n",
      "==================================================\n",
      "group1 group2 meandiff p-adj  lower  upper  reject\n",
      "--------------------------------------------------\n",
      " Fert1  Fert2      1.8 0.0099 0.4572 3.1428   True\n",
      " Fert1  Fert3      3.2 0.0001 1.8572 4.5428   True\n",
      " Fert2  Fert3      1.4 0.0409 0.0572 2.7428   True\n",
      "--------------------------------------------------\n"
     ]
    }
   ],
   "source": [
    "# Creamos lista con todos los valores de los fertilizantes\n",
    "fertilizantes = np.concatenate([fert1, fert2, fert3]) # concatenamos en vez de sumer fert1 + fert2 + ... para mantener los arrays\n",
    "\n",
    "# Creamos etiquetas indicando a qué grupo pertenece cada dato\n",
    "grupos = ['Fert1']*5 + ['Fert2']*5 + ['Fert3']*5\n",
    "\n",
    "# Aplicamos Tukey HSD\n",
    "tukey_resultado = pairwise_tukeyhsd(endog=fertilizantes, groups=grupos, alpha=0.05)\n",
    "print(tukey_resultado)"
   ]
  },
  {
   "cell_type": "markdown",
   "id": "3c826bec",
   "metadata": {},
   "source": [
    "| Columna            | Significado                                              |\n",
    "| ------------------ | -------------------------------------------------------- |\n",
    "| `group1`, `group2` | Los grupos que se están comparando                       |\n",
    "| `meandiff`         | Diferencia de medias entre los grupos                    |\n",
    "| `p-adj`            | P-valor ajustado (para múltiples comparaciones)          |\n",
    "| `lower`, `upper`   | Intervalo de confianza al 95% de la diferencia de medias |\n",
    "| `reject`           | Si es `True`, la diferencia es significativa (p < 0.05)  |\n"
   ]
  },
  {
   "cell_type": "markdown",
   "id": "88b46524",
   "metadata": {},
   "source": [
    "✅ Todos los fertilizantes difieren significativamente entre sí en cuanto al rendimiento.\n",
    "  \n",
    "✅ El fertilizante 3 es el más efectivo (tiene la media más alta).\n",
    "\n",
    "✅ Le sigue el fertilizante 2.\n",
    "\n",
    "✅ El fertilizante 1 es el que produce menos maíz."
   ]
  },
  {
   "cell_type": "code",
   "execution_count": 17,
   "id": "f51a023b",
   "metadata": {},
   "outputs": [
    {
     "data": {
      "image/png": "[encoded data removed]",
      "text/plain": [
       "<Figure size 1000x600 with 1 Axes>"
      ]
     },
     "metadata": {},
     "output_type": "display_data"
    }
   ],
   "source": [
    "tukey_resultado.plot_simultaneous()\n",
    "plt.title(\"Intervalos de Confianza - Test de Tukey HSD\")\n",
    "plt.xlabel(\"Diferencia de medias\")\n",
    "plt.grid(True)\n",
    "plt.show()"
   ]
  }
 ],
 "metadata": {
  "kernelspec": {
   "display_name": "base",
   "language": "python",
   "name": "python3"
  },
  "language_info": {
   "codemirror_mode": {
    "name": "ipython",
    "version": 3
   },
   "file_extension": ".py",
   "mimetype": "text/x-python",
   "name": "python",
   "nbconvert_exporter": "python",
   "pygments_lexer": "ipython3",
   "version": "3.12.7"
  }
 },
 "nbformat": 4,
 "nbformat_minor": 5
}
